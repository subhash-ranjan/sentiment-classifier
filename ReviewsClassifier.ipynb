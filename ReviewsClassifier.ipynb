{
  "nbformat": 4,
  "nbformat_minor": 0,
  "metadata": {
    "colab": {
      "name": "ReviewsClassifier.ipynb",
      "provenance": [],
      "authorship_tag": "ABX9TyOcMG0DGjRrU/hrZGPouk/M",
      "include_colab_link": true
    },
    "kernelspec": {
      "name": "python3",
      "display_name": "Python 3"
    },
    "language_info": {
      "name": "python"
    }
  },
  "cells": [
    {
      "cell_type": "markdown",
      "metadata": {
        "id": "view-in-github",
        "colab_type": "text"
      },
      "source": [
        "<a href=\"https://colab.research.google.com/github/subhash-ranjan/sentiment-classifier/blob/main/ReviewsClassifier.ipynb\" target=\"_parent\"><img src=\"https://colab.research.google.com/assets/colab-badge.svg\" alt=\"Open In Colab\"/></a>"
      ]
    },
    {
      "cell_type": "markdown",
      "source": [
        "Data Class"
      ],
      "metadata": {
        "id": "Em-Tgxciltad"
      }
    },
    {
      "cell_type": "code",
      "source": [
        "class Sentiment:\n",
        "  NEGATIVE = 'NEGATIVE'\n",
        "  NEUTRAL = 'NEUTRAL'\n",
        "  POSITIVE = 'POSITIVE'\n",
        "\n",
        "class Review:\n",
        "  def __init__(self, text, score):\n",
        "    self.text = text\n",
        "    self.score = score\n",
        "    self.sentiment = self.get_sentiment()\n",
        "\n",
        "  def get_sentiment(self):\n",
        "    if self.score <3:\n",
        "      return Sentiment.NEGATIVE\n",
        "    elif self.score == 3:\n",
        "      return Sentiment.NEUTRAL\n",
        "    else:\n",
        "      return Sentiment.POSITIVE\n"
      ],
      "metadata": {
        "id": "E6quyStplrjs"
      },
      "execution_count": 1,
      "outputs": []
    },
    {
      "cell_type": "code",
      "execution_count": 5,
      "metadata": {
        "id": "DPmkRDCOcPcy"
      },
      "outputs": [],
      "source": [
        "import json \n",
        "\n",
        "file_name = 'amazon-data.json'\n",
        "\n",
        "reviews =[]\n",
        "with open(file_name) as f:\n",
        "  count =0\n",
        "\n",
        "  for line in f:\n",
        "    count=count+1\n",
        "    if (count>1000):\n",
        "      break\n",
        "\n",
        "    review = json.loads(line)\n",
        "    reviews.append(Review(review['reviewText'], review['overall']))\n",
        "\n",
        "  # print(len(reviews))\n"
      ]
    },
    {
      "cell_type": "markdown",
      "source": [
        "Prepare data"
      ],
      "metadata": {
        "id": "Jf90UkHkqcKg"
      }
    },
    {
      "cell_type": "code",
      "source": [
        "from sklearn.model_selection import train_test_split\n",
        "from sklearn.feature_extraction.text import CountVectorizer\n",
        "\n",
        "training, test = train_test_split(reviews, test_size=0.33, random_state=41)\n",
        "\n",
        "train_x = [x.text  for x in training]\n",
        "train_y = [x.sentiment  for x in training]\n",
        "\n",
        "test_x = [x.text  for x in test]\n",
        "test_y = [x.sentiment  for x in test]\n",
        "\n",
        "\n",
        "# Bag of words vectorization\n",
        "vectorizer = CountVectorizer()\n",
        "train_x_vectors = vectorizer.fit_transform(train_x)\n",
        "\n",
        "test_x_vectors = vectorizer.transform(test_x)\n",
        "\n",
        "# print(train_x_vectors[0].toarray())\n",
        "print(len(train_x))\n"
      ],
      "metadata": {
        "colab": {
          "base_uri": "https://localhost:8080/"
        },
        "id": "znEpuCMaqg6j",
        "outputId": "e2b3d9cc-1079-4f67-b98d-a1492adf87eb"
      },
      "execution_count": 29,
      "outputs": [
        {
          "output_type": "stream",
          "name": "stdout",
          "text": [
            "670\n"
          ]
        }
      ]
    },
    {
      "cell_type": "markdown",
      "source": [
        "## Classification"
      ],
      "metadata": {
        "id": "svJRUwuXQb5Y"
      }
    },
    {
      "cell_type": "markdown",
      "source": [
        "#### Liner SVM"
      ],
      "metadata": {
        "id": "6qJTyxmnQiTz"
      }
    },
    {
      "cell_type": "code",
      "source": [
        "from sklearn import svm\n",
        "\n",
        "clf_svm = svm.SVC(kernel='linear')\n",
        "clf_svm.fit(train_x_vectors, train_y)\n",
        "\n",
        "clf_svm.predict(test_x_vectors[236])\n",
        "\n"
      ],
      "metadata": {
        "colab": {
          "base_uri": "https://localhost:8080/"
        },
        "id": "KeUh1EuvQevn",
        "outputId": "7b85f58e-6d12-4b82-c3a6-06699b2ec8a6"
      },
      "execution_count": 47,
      "outputs": [
        {
          "output_type": "execute_result",
          "data": {
            "text/plain": [
              "array(['NEGATIVE'], dtype='<U8')"
            ]
          },
          "metadata": {},
          "execution_count": 47
        }
      ]
    },
    {
      "cell_type": "markdown",
      "source": [
        "#### Decision Tree"
      ],
      "metadata": {
        "id": "br59yBB9UlYP"
      }
    },
    {
      "cell_type": "code",
      "source": [
        "from sklearn.tree import DecisionTreeClassifier\n",
        "\n",
        "clf_dec = DecisionTreeClassifier()\n",
        "clf_dec.fit(train_x_vectors, train_y)\n",
        "\n",
        "clf_dec.predict(test_x_vectors[236])\n"
      ],
      "metadata": {
        "colab": {
          "base_uri": "https://localhost:8080/"
        },
        "id": "tAQGB1ciUqts",
        "outputId": "458f5ef3-69d6-42f6-e690-be7b9c0cec70"
      },
      "execution_count": 48,
      "outputs": [
        {
          "output_type": "execute_result",
          "data": {
            "text/plain": [
              "array(['POSITIVE'], dtype='<U8')"
            ]
          },
          "metadata": {},
          "execution_count": 48
        }
      ]
    },
    {
      "cell_type": "markdown",
      "source": [
        "#### Naive Bais"
      ],
      "metadata": {
        "id": "1BbNWvwBXx0L"
      }
    },
    {
      "cell_type": "code",
      "source": [
        "from sklearn.naive_bayes import GaussianNB\n",
        "\n",
        "clf_gnb = GaussianNB()\n",
        "clf_gnb.fit(train_x_vectors.toarray(), train_y)\n",
        "\n",
        "# clf_gnb.predict(test_x_vectors.toarray()[236])\n"
      ],
      "metadata": {
        "colab": {
          "base_uri": "https://localhost:8080/"
        },
        "id": "r9oyzy0eX19p",
        "outputId": "34aa7a99-ffa8-4f73-d3e0-53b02846e602"
      },
      "execution_count": 55,
      "outputs": [
        {
          "output_type": "execute_result",
          "data": {
            "text/plain": [
              "GaussianNB()"
            ]
          },
          "metadata": {},
          "execution_count": 55
        }
      ]
    },
    {
      "cell_type": "markdown",
      "source": [
        "#### Logistic Regession"
      ],
      "metadata": {
        "id": "lpmrfqrXaXSo"
      }
    },
    {
      "cell_type": "code",
      "source": [
        "from sklearn.linear_model import LogisticRegression\n",
        "\n",
        "clf_log = LogisticRegression( max_iter=500)\n",
        "clf_log.fit(train_x_vectors, train_y)\n",
        "clf_log.predict(test_x_vectors[236])"
      ],
      "metadata": {
        "id": "NlEGWJz_agC4",
        "outputId": "8069efd8-fd0d-4694-c890-f664ce4c7a01",
        "colab": {
          "base_uri": "https://localhost:8080/"
        }
      },
      "execution_count": 59,
      "outputs": [
        {
          "output_type": "execute_result",
          "data": {
            "text/plain": [
              "array(['NEGATIVE'], dtype='<U8')"
            ]
          },
          "metadata": {},
          "execution_count": 59
        }
      ]
    },
    {
      "cell_type": "markdown",
      "source": [
        "## Evaluation"
      ],
      "metadata": {
        "id": "qcZncVxFbvk-"
      }
    },
    {
      "cell_type": "code",
      "source": [
        "# Mean Accuracy\n",
        "\n",
        "# print(clf_svm.score(test_x_vectors, test_y))\n",
        "# print(clf_dec.score(test_x_vectors, test_y))\n",
        "# print(clf_log.score(test_x_vectors, test_y))\n",
        "\n",
        "# F1 Scores\n",
        "from sklearn.metrics import f1_score\n",
        "f1_score(test_y, clf_svm.predict(test_x_vectors), average=None, labels=[Sentiment.POSITIVE, Sentiment.NEUTRAL, Sentiment.NEGATIVE])\n"
      ],
      "metadata": {
        "colab": {
          "base_uri": "https://localhost:8080/"
        },
        "id": "BFcVtgALVZHi",
        "outputId": "6a9c6d70-9e91-4810-8d27-7cee1715f95e"
      },
      "execution_count": 66,
      "outputs": [
        {
          "output_type": "execute_result",
          "data": {
            "text/plain": [
              "array([0.89774697, 0.18867925, 0.13333333])"
            ]
          },
          "metadata": {},
          "execution_count": 66
        }
      ]
    },
    {
      "cell_type": "code",
      "source": [
        ""
      ],
      "metadata": {
        "id": "rVGSNMExT5d_"
      },
      "execution_count": null,
      "outputs": []
    }
  ]
}