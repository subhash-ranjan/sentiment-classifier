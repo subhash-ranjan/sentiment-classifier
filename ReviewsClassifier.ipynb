{
  "nbformat": 4,
  "nbformat_minor": 0,
  "metadata": {
    "colab": {
      "name": "ReviewsClassifier.ipynb",
      "provenance": [],
      "authorship_tag": "ABX9TyOpulcS7wa0FSzxvQpJY5RE",
      "include_colab_link": true
    },
    "kernelspec": {
      "name": "python3",
      "display_name": "Python 3"
    },
    "language_info": {
      "name": "python"
    }
  },
  "cells": [
    {
      "cell_type": "markdown",
      "metadata": {
        "id": "view-in-github",
        "colab_type": "text"
      },
      "source": [
        "<a href=\"https://colab.research.google.com/github/subhash-ranjan/sentiment-classifier/blob/main/ReviewsClassifier.ipynb\" target=\"_parent\"><img src=\"https://colab.research.google.com/assets/colab-badge.svg\" alt=\"Open In Colab\"/></a>"
      ]
    },
    {
      "cell_type": "code",
      "execution_count": 9,
      "metadata": {
        "id": "DPmkRDCOcPcy"
      },
      "outputs": [],
      "source": [
        "import json \n",
        "\n",
        "file_name = 'amazon-data.json'\n",
        "\n",
        "reviews =[]\n",
        "with open(file_name) as f:\n",
        "  for line in f:\n",
        "    review = json.loads(line)\n",
        "    reviews.append((review['reviewText'], review['overall']))\n",
        "\n",
        "\n",
        "\n"
      ]
    }
  ]
}