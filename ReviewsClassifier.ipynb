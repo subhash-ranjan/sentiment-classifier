{
  "nbformat": 4,
  "nbformat_minor": 0,
  "metadata": {
    "colab": {
      "name": "ReviewsClassifier.ipynb",
      "provenance": [],
      "authorship_tag": "ABX9TyP2FrrabLBg0EP5f+Ssht0F",
      "include_colab_link": true
    },
    "kernelspec": {
      "name": "python3",
      "display_name": "Python 3"
    },
    "language_info": {
      "name": "python"
    }
  },
  "cells": [
    {
      "cell_type": "markdown",
      "metadata": {
        "id": "view-in-github",
        "colab_type": "text"
      },
      "source": [
        "<a href=\"https://colab.research.google.com/github/subhash-ranjan/sentiment-classifier/blob/main/ReviewsClassifier.ipynb\" target=\"_parent\"><img src=\"https://colab.research.google.com/assets/colab-badge.svg\" alt=\"Open In Colab\"/></a>"
      ]
    },
    {
      "cell_type": "markdown",
      "source": [
        "Data Class"
      ],
      "metadata": {
        "id": "Em-Tgxciltad"
      }
    },
    {
      "cell_type": "code",
      "source": [
        "import random\n",
        "\n",
        "class Sentiment:\n",
        "  NEGATIVE = 'NEGATIVE'\n",
        "  NEUTRAL = 'NEUTRAL'\n",
        "  POSITIVE = 'POSITIVE'\n",
        "\n",
        "class Review:\n",
        "  def __init__(self, text, score):\n",
        "    self.text = text\n",
        "    self.score = score\n",
        "    self.sentiment = self.get_sentiment()\n",
        "\n",
        "  def get_sentiment(self):\n",
        "    if self.score <3:\n",
        "      return Sentiment.NEGATIVE\n",
        "    elif self.score == 3:\n",
        "      return Sentiment.NEUTRAL\n",
        "    else:\n",
        "      return Sentiment.POSITIVE\n",
        "\n",
        "class ReviewContainer:\n",
        "  def __init__(self,reviews):\n",
        "    self.reviews = reviews\n",
        "\n",
        "  def get_text(self):\n",
        "    return [x.text  for x in self.reviews]\n",
        "\n",
        "  def get_sentiment(self):\n",
        "    return [x.sentiment  for x in self.reviews]\n",
        "\n",
        "  def evenly_distribute(self):\n",
        "    negative = list(filter(lambda x: x.sentiment == Sentiment.NEGATIVE, self.reviews))\n",
        "    positive = list(filter(lambda x: x.sentiment == Sentiment.POSITIVE, self.reviews))\n",
        "    neutral = list(filter(lambda x: x.sentiment == Sentiment.NEUTRAL, self.reviews))\n",
        "    positive_new= positive[:len(negative)]\n",
        "    self.reviews = negative + positive_new + neutral\n",
        "\n",
        "    random.shuffle(self.reviews)\n"
      ],
      "metadata": {
        "id": "E6quyStplrjs"
      },
      "execution_count": 36,
      "outputs": []
    },
    {
      "cell_type": "code",
      "execution_count": 18,
      "metadata": {
        "id": "DPmkRDCOcPcy",
        "colab": {
          "base_uri": "https://localhost:8080/"
        },
        "outputId": "f142fdbb-8958-43af-d978-0b84ca43a57e"
      },
      "outputs": [
        {
          "output_type": "stream",
          "name": "stdout",
          "text": [
            "10000\n"
          ]
        }
      ],
      "source": [
        "import json \n",
        "\n",
        "file_name = 'amazon-data.json'\n",
        "\n",
        "reviews =[]\n",
        "with open(file_name) as f:\n",
        "  count =0\n",
        "\n",
        "  for line in f:\n",
        "    # count=count+1\n",
        "    # if (count>1000):\n",
        "    #   break\n",
        "\n",
        "    review = json.loads(line)\n",
        "    reviews.append(Review(review['reviewText'], review['overall']))\n"
      ]
    },
    {
      "cell_type": "markdown",
      "source": [
        "Prepare data"
      ],
      "metadata": {
        "id": "Jf90UkHkqcKg"
      }
    },
    {
      "cell_type": "code",
      "source": [
        "from sklearn.model_selection import train_test_split\n",
        "from sklearn.feature_extraction.text import CountVectorizer, TfidfVectorizer\n",
        "\n",
        "training, test = train_test_split(reviews, test_size=0.33, random_state=41)\n",
        "\n",
        "training_container = ReviewContainer(training)\n",
        "test_container = ReviewContainer(test)\n",
        "\n",
        "training_container.evenly_distribute()\n",
        "test_container.evenly_distribute()\n",
        "\n",
        "train_x = training_container.get_text()\n",
        "train_y = training_container.get_sentiment()\n",
        "\n",
        "test_x = test_container.get_text()\n",
        "test_y = test_container.get_sentiment()\n",
        "\n",
        "\n",
        "# Bag of words vectorization\n",
        "vectorizer = TfidfVectorizer()\n",
        "train_x_vectors = vectorizer.fit_transform(train_x)\n",
        "\n",
        "test_x_vectors = vectorizer.transform(test_x)\n",
        "\n",
        "# print(train_x_vectors[0].toarray())\n"
      ],
      "metadata": {
        "id": "znEpuCMaqg6j"
      },
      "execution_count": 49,
      "outputs": []
    },
    {
      "cell_type": "markdown",
      "source": [
        "## Classification"
      ],
      "metadata": {
        "id": "svJRUwuXQb5Y"
      }
    },
    {
      "cell_type": "markdown",
      "source": [
        "#### Liner SVM"
      ],
      "metadata": {
        "id": "6qJTyxmnQiTz"
      }
    },
    {
      "cell_type": "code",
      "source": [
        "from sklearn import svm\n",
        "\n",
        "clf_svm = svm.SVC(kernel='linear')\n",
        "clf_svm.fit(train_x_vectors, train_y)\n",
        "\n",
        "clf_svm.predict(test_x_vectors[236])\n",
        "\n",
        "        "
      ],
      "metadata": {
        "colab": {
          "base_uri": "https://localhost:8080/"
        },
        "id": "KeUh1EuvQevn",
        "outputId": "2b043b67-0081-42c1-e441-02b2cced5d28"
      },
      "execution_count": 50,
      "outputs": [
        {
          "output_type": "execute_result",
          "data": {
            "text/plain": [
              "array(['POSITIVE'], dtype='<U8')"
            ]
          },
          "metadata": {},
          "execution_count": 50
        }
      ]
    },
    {
      "cell_type": "markdown",
      "source": [
        "#### Decision Tree"
      ],
      "metadata": {
        "id": "br59yBB9UlYP"
      }
    },
    {
      "cell_type": "code",
      "source": [
        "from sklearn.tree import DecisionTreeClassifier\n",
        "\n",
        "clf_dec = DecisionTreeClassifier()\n",
        "clf_dec.fit(train_x_vectors, train_y)\n",
        "\n",
        "clf_dec.predict(test_x_vectors[236])\n"
      ],
      "metadata": {
        "colab": {
          "base_uri": "https://localhost:8080/"
        },
        "id": "tAQGB1ciUqts",
        "outputId": "fbdac779-2755-406f-e495-b3d18767779a"
      },
      "execution_count": 42,
      "outputs": [
        {
          "output_type": "execute_result",
          "data": {
            "text/plain": [
              "array(['POSITIVE'], dtype='<U8')"
            ]
          },
          "metadata": {},
          "execution_count": 42
        }
      ]
    },
    {
      "cell_type": "markdown",
      "source": [
        "#### Naive Bais"
      ],
      "metadata": {
        "id": "1BbNWvwBXx0L"
      }
    },
    {
      "cell_type": "code",
      "source": [
        "from sklearn.naive_bayes import GaussianNB\n",
        "\n",
        "clf_gnb = GaussianNB()\n",
        "clf_gnb.fit(train_x_vectors.toarray(), train_y)\n",
        "\n",
        "#  clf_gnb.predict(test_x_vectors.toarray()[236])\n"
      ],
      "metadata": {
        "colab": {
          "base_uri": "https://localhost:8080/"
        },
        "id": "r9oyzy0eX19p",
        "outputId": "c41f65da-48a6-4617-a8d2-f29a838e6588"
      },
      "execution_count": 44,
      "outputs": [
        {
          "output_type": "execute_result",
          "data": {
            "text/plain": [
              "GaussianNB()"
            ]
          },
          "metadata": {},
          "execution_count": 44
        }
      ]
    },
    {
      "cell_type": "markdown",
      "source": [
        "#### Logistic Regession"
      ],
      "metadata": {
        "id": "lpmrfqrXaXSo"
      }
    },
    {
      "cell_type": "code",
      "source": [
        "from sklearn.linear_model import LogisticRegression\n",
        "\n",
        "clf_log = LogisticRegression( max_iter=500)\n",
        "clf_log.fit(train_x_vectors, train_y)\n",
        "clf_log.predict(test_x_vectors[236])"
      ],
      "metadata": {
        "colab": {
          "base_uri": "https://localhost:8080/"
        },
        "id": "NlEGWJz_agC4",
        "outputId": "e4345005-73e3-4d71-daea-4419cce18e6c"
      },
      "execution_count": 45,
      "outputs": [
        {
          "output_type": "execute_result",
          "data": {
            "text/plain": [
              "array(['POSITIVE'], dtype='<U8')"
            ]
          },
          "metadata": {},
          "execution_count": 45
        }
      ]
    },
    {
      "cell_type": "markdown",
      "source": [
        "## Evaluation"
      ],
      "metadata": {
        "id": "qcZncVxFbvk-"
      }
    },
    {
      "cell_type": "code",
      "source": [
        "# Mean Accuracy\n",
        "\n",
        "print(clf_svm.score(test_x_vectors, test_y))\n",
        "print(clf_dec.score(test_x_vectors, test_y))\n",
        "print(clf_log.score(test_x_vectors, test_y))\n",
        "\n",
        "# F1 Scores\n",
        "from sklearn.metrics import f1_score\n",
        "f1_score(test_y, clf_svm.predict(test_x_vectors), average=None, labels=[Sentiment.POSITIVE, Sentiment.NEUTRAL, Sentiment.NEGATIVE])\n"
      ],
      "metadata": {
        "colab": {
          "base_uri": "https://localhost:8080/"
        },
        "id": "BFcVtgALVZHi",
        "outputId": "6aaaf378-8fa0-4b2a-8d59-bb672aee92eb"
      },
      "execution_count": 51,
      "outputs": [
        {
          "output_type": "stream",
          "name": "stdout",
          "text": [
            "0.6504854368932039\n",
            "0.4563106796116505\n",
            "0.5284327323162274\n"
          ]
        },
        {
          "output_type": "execute_result",
          "data": {
            "text/plain": [
              "array([0.65927978, 0.68032787, 0.57879656])"
            ]
          },
          "metadata": {},
          "execution_count": 51
        }
      ]
    },
    {
      "cell_type": "code",
      "source": [
        "# Evaluate\n",
        "\n",
        "test_new = ['this is great', 'not that good','this is good','very bad', 'this is worse']\n",
        "new_data = vectorizer.transform(test_new)\n",
        "clf_svm.predict(new_data)"
      ],
      "metadata": {
        "colab": {
          "base_uri": "https://localhost:8080/"
        },
        "id": "rVGSNMExT5d_",
        "outputId": "77c9dbd9-1e73-40d1-ed53-f913ef83fce0"
      },
      "execution_count": 54,
      "outputs": [
        {
          "output_type": "execute_result",
          "data": {
            "text/plain": [
              "array(['POSITIVE', 'NEGATIVE', 'POSITIVE', 'NEGATIVE', 'NEGATIVE'],\n",
              "      dtype='<U8')"
            ]
          },
          "metadata": {},
          "execution_count": 54
        }
      ]
    },
    {
      "cell_type": "markdown",
      "source": [
        "Tuning the model further"
      ],
      "metadata": {
        "id": "uydf-BMDFSug"
      }
    },
    {
      "cell_type": "code",
      "source": [
        "from sklearn.model_selection import GridSearchCV\n",
        "\n",
        "parameters = {'kernel':('linear','rbf'), 'C':(1,4,8,16)}\n",
        "# clf = GridSearchCV(svm.SVC(), parameters, cv=5)\n",
        "# clf.fit(train_x_vectors, train_y)\n",
        "# print(clf.score(test_x_vectors, test_y))\n",
        "\n"
      ],
      "metadata": {
        "id": "XfQzV4djH1P0"
      },
      "execution_count": 58,
      "outputs": []
    },
    {
      "cell_type": "markdown",
      "source": [
        "Save/Load model"
      ],
      "metadata": {
        "id": "F1MiMCJGKQrM"
      }
    },
    {
      "cell_type": "code",
      "source": [
        "import pickle\n",
        "\n",
        "with open('/sentiment_classifier.pkl','wb') as f:\n",
        "  pickle.dump(clf, f)"
      ],
      "metadata": {
        "id": "A8vz1Hg7KWAj"
      },
      "execution_count": 59,
      "outputs": []
    },
    {
      "cell_type": "code",
      "source": [
        "with open('/sentiment_classifier.pkl','rb') as f:\n",
        "  loaded_model = pickle.load(f)\n",
        "\n",
        "print(loaded_model.predict(test_x_vectors[39]))\n"
      ],
      "metadata": {
        "id": "9MBu44YcK9wP",
        "outputId": "830b4715-b4e4-4fb4-eeea-d9fc52cd3835",
        "colab": {
          "base_uri": "https://localhost:8080/"
        }
      },
      "execution_count": 74,
      "outputs": [
        {
          "output_type": "stream",
          "name": "stdout",
          "text": [
            "['POSITIVE']\n"
          ]
        }
      ]
    }
  ]
}