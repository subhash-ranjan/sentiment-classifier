{
  "nbformat": 4,
  "nbformat_minor": 0,
  "metadata": {
    "colab": {
      "name": "ReviewsClassifier.ipynb",
      "provenance": [],
      "authorship_tag": "ABX9TyOn1TAGazDfjG2VKOPRNqeq",
      "include_colab_link": true
    },
    "kernelspec": {
      "name": "python3",
      "display_name": "Python 3"
    },
    "language_info": {
      "name": "python"
    }
  },
  "cells": [
    {
      "cell_type": "markdown",
      "metadata": {
        "id": "view-in-github",
        "colab_type": "text"
      },
      "source": [
        "<a href=\"https://colab.research.google.com/github/subhash-ranjan/sentiment-classifier/blob/main/ReviewsClassifier.ipynb\" target=\"_parent\"><img src=\"https://colab.research.google.com/assets/colab-badge.svg\" alt=\"Open In Colab\"/></a>"
      ]
    },
    {
      "cell_type": "markdown",
      "source": [
        "Data Class"
      ],
      "metadata": {
        "id": "Em-Tgxciltad"
      }
    },
    {
      "cell_type": "code",
      "source": [
        "class Sentiment:\n",
        "  NEGATIVE = 'NEGATIVE'\n",
        "  NEUTRAL = 'NEUTRAL'\n",
        "  POSITIVE = 'POSITIVE'\n",
        "\n",
        "class Review:\n",
        "  def __init__(self, text, score):\n",
        "    self.text = text\n",
        "    self.score = score\n",
        "    self.sentiment = self.get_sentiment()\n",
        "\n",
        "  def get_sentiment(self):\n",
        "    if self.score <3:\n",
        "      return Sentiment.NEGATIVE\n",
        "    elif self.score == 3:\n",
        "      return Sentiment.NEUTRAL\n",
        "    else:\n",
        "      return Sentiment.POSITIVE\n"
      ],
      "metadata": {
        "id": "E6quyStplrjs"
      },
      "execution_count": 12,
      "outputs": []
    },
    {
      "cell_type": "code",
      "execution_count": 19,
      "metadata": {
        "id": "DPmkRDCOcPcy"
      },
      "outputs": [],
      "source": [
        "import json \n",
        "\n",
        "file_name = 'amazon-data.json'\n",
        "\n",
        "reviews =[]\n",
        "with open(file_name) as f:\n",
        "  for line in f:\n",
        "    review = json.loads(line)\n",
        "    reviews.append(Review(review['reviewText'], review['overall']))\n"
      ]
    },
    {
      "cell_type": "markdown",
      "source": [
        "Prepare data"
      ],
      "metadata": {
        "id": "Jf90UkHkqcKg"
      }
    },
    {
      "cell_type": "code",
      "source": [
        "from sklearn.model_selection import train_test_split\n",
        "from sklearn.feature_extraction.text import CountVectorizer\n",
        "\n",
        "training, test = train_test_split(reviews, test_size=0.33, random_state=41)\n",
        "\n",
        "train_x = [x.text  for x in training]\n",
        "train_y = [x.sentiment  for x in training]\n",
        "\n",
        "test_x = [x.text  for x in test]\n",
        "test_y = [x.sentiment  for x in test]\n",
        "\n",
        "\n",
        "# Bag of words vectorization\n",
        "vectorizer = CountVectorizer()\n",
        "train_x_vectors = vectorizer.fit_transform(train_x)\n",
        "\n",
        "print(train_x_vectors[0].toarray())\n",
        "\n",
        "\n",
        "\n",
        "\n",
        "\n"
      ],
      "metadata": {
        "colab": {
          "base_uri": "https://localhost:8080/"
        },
        "id": "znEpuCMaqg6j",
        "outputId": "9508e3ae-25d4-44d9-d287-4fdac380436d"
      },
      "execution_count": 29,
      "outputs": [
        {
          "output_type": "stream",
          "name": "stdout",
          "text": [
            "[[0 0 0 ... 0 0 0]]\n"
          ]
        }
      ]
    }
  ]
}